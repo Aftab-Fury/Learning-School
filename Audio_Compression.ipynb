{
  "nbformat": 4,
  "nbformat_minor": 0,
  "metadata": {
    "colab": {
      "name": "Untitled2.ipynb",
      "provenance": [],
      "authorship_tag": "ABX9TyPeubU6UX20DGIiUF0AM6IY",
      "include_colab_link": true
    },
    "kernelspec": {
      "name": "python3",
      "display_name": "Python 3"
    }
  },
  "cells": [
    {
      "cell_type": "markdown",
      "metadata": {
        "id": "view-in-github",
        "colab_type": "text"
      },
      "source": [
        "<a href=\"https://colab.research.google.com/github/Aftab-Fury/Learning-School/blob/master/Audio_Compression.ipynb\" target=\"_parent\"><img src=\"https://colab.research.google.com/assets/colab-badge.svg\" alt=\"Open In Colab\"/></a>"
      ]
    },
    {
      "cell_type": "code",
      "metadata": {
        "id": "FFeUxlNg9Hru",
        "colab_type": "code",
        "colab": {}
      },
      "source": [
        "import numpy as np\n",
        " \n",
        "import wave\n",
        " \n",
        "import struct\n",
        " \n",
        "import matplotlib.pyplot as plt\n",
        " \n",
        "# frequency is the number of times a wave repeats a second\n",
        " \n",
        "frequency = 2000\n",
        " \n",
        "num_samples = 4800\n",
        " \n",
        "# The sampling rate of the analog to digital convert\n",
        " \n",
        "sampling_rate = 4800\n",
        " \n",
        "amplitude = 8000\n",
        " \n",
        "file = \"test.wav\""
      ],
      "execution_count": 24,
      "outputs": []
    },
    {
      "cell_type": "code",
      "metadata": {
        "id": "bm2T_-N3Q4dv",
        "colab_type": "code",
        "colab": {}
      },
      "source": [
        "sine_wave = [np.sin(2 * np.pi * frequency * x/sampling_rate) for x in range(num_samples)]\n"
      ],
      "execution_count": 25,
      "outputs": []
    },
    {
      "cell_type": "code",
      "metadata": {
        "id": "ymmv9wVEQ6zV",
        "colab_type": "code",
        "colab": {}
      },
      "source": [
        "nframes=num_samples\n",
        " \n",
        "comptype=\"NONE\"\n",
        " \n",
        "compname=\"not compressed\"\n",
        " \n",
        "nchannels=1\n",
        " \n",
        "sampwidth=2"
      ],
      "execution_count": 26,
      "outputs": []
    },
    {
      "cell_type": "code",
      "metadata": {
        "id": "SCQwAh5OQ829",
        "colab_type": "code",
        "colab": {}
      },
      "source": [
        "wav_file1=wave.open(file, 'w')\n",
        " \n",
        "wav_file1.setparams((nchannels, sampwidth, int(sampling_rate), nframes, comptype, compname))"
      ],
      "execution_count": 27,
      "outputs": []
    },
    {
      "cell_type": "code",
      "metadata": {
        "id": "vTALdE9iQfhQ",
        "colab_type": "code",
        "colab": {}
      },
      "source": [
        "\n",
        "for s in sine_wave:\n",
        "   wav_file1.writeframes(struct.pack('h', int(s*amplitude)))\n"
      ],
      "execution_count": 28,
      "outputs": []
    },
    {
      "cell_type": "code",
      "metadata": {
        "id": "R82QervEQn0n",
        "colab_type": "code",
        "colab": {}
      },
      "source": [
        "\n",
        "from pydub import AudioSegment\n",
        "sound1 = AudioSegment.from_wav(\"test.wav\")\n",
        "sound2 = AudioSegment.from_wav(\"test-1.wav\")"
      ],
      "execution_count": 29,
      "outputs": []
    },
    {
      "cell_type": "code",
      "metadata": {
        "id": "rjJZmy08QqaZ",
        "colab_type": "code",
        "colab": {}
      },
      "source": [
        "combined_sounds = sound1 + sound2"
      ],
      "execution_count": 30,
      "outputs": []
    },
    {
      "cell_type": "code",
      "metadata": {
        "id": "boHwHLrXQsma",
        "colab_type": "code",
        "colab": {
          "base_uri": "https://localhost:8080/",
          "height": 34
        },
        "outputId": "d1ef79b5-96e5-44f0-e198-a7f0c87aa579"
      },
      "source": [
        "combined_sounds.export(\"combined.wav\", format=\"wav\")"
      ],
      "execution_count": 31,
      "outputs": [
        {
          "output_type": "execute_result",
          "data": {
            "text/plain": [
              "<_io.BufferedRandom name='combined.wav'>"
            ]
          },
          "metadata": {
            "tags": []
          },
          "execution_count": 31
        }
      ]
    }
  ]
}